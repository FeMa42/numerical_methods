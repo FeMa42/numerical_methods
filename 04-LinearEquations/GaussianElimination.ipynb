{
 "cells": [
  {
   "cell_type": "markdown",
   "metadata": {},
   "source": [
    "(gaussian-elimination)=\n",
    "# 4.3 Gaussian Elimination\n",
    "In the lecture we learned that we can solve a linear equation using the Gaussian elimination method. The idea is to transform the linear equation into an upper (or lower) triangular matrix. We did this by transforming each row of the matrix. We want to solve for $x$ in the following equation:\n",
    "\n",
    "$$\n",
    "\\mathbf{A} * \\mathbf{x} = \\mathbf{b} \n",
    "$$\n",
    "\n",
    "As an example let's look at the following equation:\n",
    "\n",
    "$$\n",
    "\\begin{pmatrix}\n",
    "1 & 2 \\\\\n",
    "4 & 5 \\\\\n",
    "\\end{pmatrix}\n",
    "* x =\n",
    "\\begin{pmatrix}\n",
    "3 \\\\\n",
    "6 \\\\\n",
    "\\end{pmatrix}\n",
    "$$\n",
    "\n",
    "We can rewrite the matrix by extending it with the vector $b$ into $[A b]$:\n",
    "\n",
    "$$\n",
    "\\begin{pmatrix}\n",
    "1 & 2 & 3 \\\\\n",
    "4 & 5 & 6 \\\\\n",
    "\\end{pmatrix}\n",
    "$$\n",
    "\n",
    "We can now perform row operations to transform the matrix into an upper triangular matrix. The first step is to subtract the first row multiplied by $4/1$ from the second row. This will result in the following matrix:\n",
    "\n",
    "$$\n",
    "\\begin{pmatrix}\n",
    "1 & 2 & 3 \\\\\n",
    "0 & -3 & -6 \\\\\n",
    "\\end{pmatrix}\n",
    "$$\n",
    "\n",
    "We can now solve the second equation for $x_2$ and substitute it into the first equation. This will result in the following equation:\n",
    "\n",
    "$$\n",
    "\\begin{pmatrix}\n",
    "1 & 2 & 3 \\\\\n",
    "0 & 1 & 2 \\\\\n",
    "\\end{pmatrix}\n",
    "$$\n",
    "\n",
    "We can now solve the first equation for $x_1$ and get the solution $x_1=1$ and $x_2=2$. \n",
    "\n",
    "\n",
    "As a more general way to show our example of a 2x2 matrix $A$ we have:\n",
    "\n",
    "$$\n",
    "\\begin{pmatrix}\n",
    "a_{11} & a_{12} \\\\\n",
    "a_{21} & a_{22} \\\\\n",
    "\\end{pmatrix}\n",
    "* x =\n",
    "\\begin{pmatrix}\n",
    "b_1 \\\\\n",
    "b_2 \\\\\n",
    "\\end{pmatrix}\n",
    "$$\n",
    "\n",
    "To perform the Gaussian elimination of this linear equation we can use the following algorithm:\n",
    "- $\\alpha = a_{21}/a_{11}$\n",
    "- $a_{22} = a_{22} - \\alpha * a_{12}$ \n",
    "- $b_2 = b_2 - \\alpha * b_1$\n",
    "- $x_2 = b_2/a_{22}$\n",
    "- $b_1 = b_1 - a_{12} * x_2$\n",
    "- $x_1 = b_1/a_{11}$\n",
    "- return $x_1$ and $x_2$"
   ]
  },
  {
   "cell_type": "code",
   "execution_count": 38,
   "metadata": {},
   "outputs": [
    {
     "data": {
      "text/plain": [
       "2-element Vector{Float64}:\n",
       " -4.0\n",
       "  4.5"
      ]
     },
     "metadata": {},
     "output_type": "display_data"
    }
   ],
   "source": [
    "A = [1 2; 3 4]\n",
    "b = [5; 6]\n",
    "A_ = float(copy(A)) # we copy A since changing an element of A will change A as well\n",
    "b_ = float(copy(b))\n",
    "α = A_[2,1] / A_[1,1]\n",
    "A_[2,:] = A_[2,:] - α * A_[1,:]\n",
    "b_[2] = b_[2] - α * b_[1]\n",
    "x_2 = b_[2] / A_[2,2]\n",
    "x_1 = (b_[1] - A_[1,2] * x_2) / A_[1,1]\n",
    "x = [x_1; x_2]"
   ]
  },
  {
   "cell_type": "markdown",
   "metadata": {},
   "source": [
    "We can test our implementation by estimating the error of the solution: \n",
    "\n",
    "$$\n",
    "Error = \\mathbf{A} * \\mathbf{x} - \\mathbf{b}\n",
    "$$  \n",
    "\n",
    "The error should be zero."
   ]
  },
  {
   "cell_type": "code",
   "execution_count": 39,
   "metadata": {},
   "outputs": [
    {
     "data": {
      "text/plain": [
       "2-element Vector{Float64}:\n",
       " 0.0\n",
       " 0.0"
      ]
     },
     "metadata": {},
     "output_type": "display_data"
    }
   ],
   "source": [
    "A*x - b"
   ]
  },
  {
   "cell_type": "markdown",
   "metadata": {},
   "source": [
    "Can you think of a way to generalize this algorithm to a square matrix of arbitrary size? One difference is that we have to perform the algorithm for each row. Each row will have a different $\\alpha$ value. We can use a loop to perform the algorithm for each row. In the example above we have applied the subtraction of the first row multiplied by $4/1$ from the second row. We can generalize this by subtracting the first row multiplied by $a_{21}/a_{11}$ from the second row. Also note that we can actually substract the whole row at once. \n",
    "\n",
    "The task is to write a function that implements the Gaussian elimination method for arbitrary square matrices. The function should take the matrix $A$ and the vector $b$ as input and return the solution vector $x$. We will divide this task into two parts. First we will write a function that transforms the linear equation into an upper triangular matrix. Then we will write a function that performs the back substitution to get the solution vector $x$.\n",
    "\n",
    "Let's start by defining a new matrix $A$ and vector $b$:"
   ]
  },
  {
   "cell_type": "code",
   "execution_count": 40,
   "metadata": {},
   "outputs": [
    {
     "data": {
      "text/plain": [
       "3-element Vector{Int64}:\n",
       " 1\n",
       " 2\n",
       " 3"
      ]
     },
     "metadata": {},
     "output_type": "display_data"
    }
   ],
   "source": [
    "A = [1 2 3; 4 5 6; 7 8 10]\n",
    "b = [1, 2, 3]"
   ]
  },
  {
   "cell_type": "markdown",
   "metadata": {},
   "source": [
    "Now we can write a function that transforms the matrix $A$ into an upper triangular matrix. The function should take the matrix $A$ and the vector $b$ as input and return the transformed matrix $A$ and the transformed vector $b$. "
   ]
  },
  {
   "cell_type": "code",
   "execution_count": 41,
   "metadata": {},
   "outputs": [
    {
     "data": {
      "text/plain": [
       "gauss_elimination (generic function with 1 method)"
      ]
     },
     "metadata": {},
     "output_type": "display_data"
    }
   ],
   "source": [
    "function gauss_elimination(A::Matrix{T}, b::Vector{T}) where T <: Number\n",
    "    n = size(A, 1)\n",
    "    U = float(copy(A))\n",
    "    b_ = float(copy(b))\n",
    "    for k = 1:n-1\n",
    "        for i = k+1:n\n",
    "            factor = U[i,k] / U[k,k]\n",
    "            U[i,:] = U[i, :] - (factor * U[k,:])\n",
    "            b_[i] = b_[i] - (factor * b_[k])\n",
    "        end\n",
    "    end\n",
    "    return U, b_\n",
    "end"
   ]
  },
  {
   "cell_type": "markdown",
   "metadata": {},
   "source": [
    "Let's test the function with the matrix $A$ and the vector $b$ defined above. We should get an upper triangular matrix. "
   ]
  },
  {
   "cell_type": "code",
   "execution_count": 42,
   "metadata": {},
   "outputs": [
    {
     "data": {
      "text/plain": [
       "([1.0 2.0 3.0; 0.0 -3.0 -6.0; 0.0 0.0 1.0], [1.0, -2.0, 0.0])"
      ]
     },
     "metadata": {},
     "output_type": "display_data"
    }
   ],
   "source": [
    "U, b_ = gauss_elimination(A, b)"
   ]
  },
  {
   "cell_type": "markdown",
   "metadata": {},
   "source": [
    "Now we can write a function that performs the back substitution to get the solution vector $x$. The function should take the matrix $U$ and the transformed vector $\\hat{b}$ as input and return the solution vector $x$."
   ]
  },
  {
   "cell_type": "code",
   "execution_count": 43,
   "metadata": {},
   "outputs": [
    {
     "data": {
      "text/plain": [
       "backsub (generic function with 1 method)"
      ]
     },
     "metadata": {},
     "output_type": "display_data"
    }
   ],
   "source": [
    "function backsub(U,b)\n",
    "    n = size(U,1)\n",
    "    x = zeros(n)\n",
    "    for i = n:-1:1\n",
    "        x[i] = b_[i]\n",
    "        for j = i+1:n\n",
    "            x[i] -= U[i,j] * x[j]\n",
    "        end\n",
    "        x[i] /= U[i,i]\n",
    "    end\n",
    "    return x\n",
    "end"
   ]
  },
  {
   "cell_type": "markdown",
   "metadata": {},
   "source": [
    "We can now test the function with the matrix $U$ and the transformed vector $\\hat{b}$ defined above. We should get the solution vector $x$."
   ]
  },
  {
   "cell_type": "code",
   "execution_count": 44,
   "metadata": {},
   "outputs": [
    {
     "data": {
      "text/plain": [
       "3-element Vector{Float64}:\n",
       " -0.33333333333333326\n",
       "  0.6666666666666666\n",
       "  0.0"
      ]
     },
     "metadata": {},
     "output_type": "display_data"
    }
   ],
   "source": [
    "x = backsub(U,b_)"
   ]
  },
  {
   "cell_type": "code",
   "execution_count": 45,
   "metadata": {},
   "outputs": [
    {
     "data": {
      "text/plain": [
       "3-element Vector{Float64}:\n",
       " 0.0\n",
       " 0.0\n",
       " 0.0"
      ]
     },
     "metadata": {},
     "output_type": "display_data"
    }
   ],
   "source": [
    "A*x-b"
   ]
  },
  {
   "cell_type": "code",
   "execution_count": null,
   "metadata": {},
   "outputs": [],
   "source": []
  }
 ],
 "metadata": {
  "kernelspec": {
   "display_name": "Julia 1.9.0",
   "language": "julia",
   "name": "julia-1.9"
  },
  "language_info": {
   "file_extension": ".jl",
   "mimetype": "application/julia",
   "name": "julia",
   "version": "1.9.0"
  },
  "orig_nbformat": 4
 },
 "nbformat": 4,
 "nbformat_minor": 2
}
