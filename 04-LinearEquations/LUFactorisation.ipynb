{
 "cells": [
  {
   "attachments": {},
   "cell_type": "markdown",
   "metadata": {},
   "source": [
    "(lu-factorization)=\n",
    "# 4.4 LU Factorization\n",
    "We learned that we can transform the linear equation with the square matrix $A$ into a upper triangular matrix $U$. In the lecture we learned that we can also transform the linear equation into an lower triangular matrix $L$ and an upper triangular matrix $U$ such that \n",
    "\n",
    "$$\n",
    "A = LU\n",
    "$$ \n",
    "\n",
    "This is called the LU factorization of $A$. The LU factorization is useful for solving linear equations especially when the right hand side vector $b$ is changed. In this case, we can solve the linear equations by solving $Ly = b$ and $Ux = y$. In the example above we would have to perform the whole calculation again. However, if we have the LU factorization of $A$ we can solve the linear equations much faster. \n",
    "\n",
    "In the lecture we learned that we can use outer products using the lower triangular matrix $L$ divided into a part for each column. For a 3x3 matrix \n",
    "\n",
    "$$\n",
    "A = \n",
    "\\begin{pmatrix}\n",
    "a_{11} & a_{12} & a_{13} \\\\\n",
    "a_{21} & a_{22} & a_{23} \\\\\n",
    "a_{31} & a_{32} & a_{33} \\\\\n",
    "\\end{pmatrix}\n",
    "\n",
    "$$\n",
    "\n",
    "we divide the lower triangular matrix $L$ into two parts:\n",
    "\n",
    "$$\n",
    "L = L_1 * L_2 =\n",
    "\\begin{pmatrix}\n",
    "1 & 0 & 0 \\\\\n",
    "a_{21}/a_{11} & 1 & 0 \\\\\n",
    "a_{31}/a_{11} & 0 & 1 \\\\\n",
    "\\end{pmatrix}\n",
    "*\n",
    "\\begin{pmatrix}\n",
    "1 & 0 & 0 \\\\\n",
    "0 & 1 & 0 \\\\\n",
    "0 & a_{32}/a_{22} & 1 \\\\\n",
    "\\end{pmatrix}\n",
    "$$\n",
    "\n",
    "Using this we can write: \n",
    "\n",
    "$$\n",
    "L_1 * L_2 * A = U\n",
    "$$\n",
    "\n",
    "For a general square matrix $A$ we can write:\n",
    "\n",
    "$$\n",
    "L_1 * L_2 * l_k * ... * L_{K} * A = U\n",
    "$$\n",
    "\n",
    "Where $L_k$ is the lower triangular matrix for the $k$-th column as is has only non-zero values on the diagonal and the k-th column. The $k$-th column of $L_k$ is defined as:\n",
    "\n",
    "$$\n",
    "(L_k)_{ik} = \\frac{a^{k-1}_{ik}}{a^{k-1}_{kk}}\n",
    "$$ \n",
    "\n",
    "Where $a^{k-1}_{ik}$ is the $i$-th element of the $k$-th column of $A^{k-1} = L_1 * L_2 * l_k * ... * L_{k-1} * A$.\n",
    "\n",
    "\n",
    "We can now write a function that calculates the LU factorization of a square matrix $A$. The function should take the matrix $A$ as input and return the lower triangular matrix $L$ and the upper triangular matrix $U$."
   ]
  },
  {
   "cell_type": "code",
   "execution_count": null,
   "metadata": {},
   "outputs": [],
   "source": [
    "import Pkg\n",
    "Pkg.instantiate()"
   ]
  },
  {
   "cell_type": "code",
   "execution_count": 2,
   "metadata": {},
   "outputs": [],
   "source": [
    "A = [1 2 3; 4 5 6; 7 8 10];\n",
    "b = [1, 2, 3];"
   ]
  },
  {
   "cell_type": "code",
   "execution_count": 3,
   "metadata": {},
   "outputs": [
    {
     "data": {
      "text/plain": [
       "lufact (generic function with 1 method)"
      ]
     },
     "metadata": {},
     "output_type": "display_data"
    }
   ],
   "source": [
    "using LinearAlgebra\n",
    "function lufact(A)\n",
    "    n = size(A,1)\n",
    "    L = diagm(ones(n))   # ones on main diagonal, zeros elsewhere\n",
    "    U = zeros(n,n)\n",
    "    Aₖ = float(copy(A))  # copy of A, converted to float\n",
    "\n",
    "    # Reduction by outer products\n",
    "    for k in 1:n-1\n",
    "        U[k,:] = Aₖ[k,:]\n",
    "        L[:,k] = Aₖ[:,k]/U[k,k]\n",
    "        Aₖ -= L[:,k]*U[k,:]'\n",
    "    end\n",
    "\n",
    "    U[n,n] = Aₖ[n,n]\n",
    "    return LowerTriangular(L),UpperTriangular(U)\n",
    "end"
   ]
  },
  {
   "cell_type": "markdown",
   "metadata": {},
   "source": [
    "Let's test the function with the matrix $A$ defined above. We should get the lower triangular matrix $L$ and the upper triangular matrix $U$."
   ]
  },
  {
   "cell_type": "code",
   "execution_count": 4,
   "metadata": {},
   "outputs": [
    {
     "data": {
      "text/plain": [
       "([1.0 0.0 0.0; 4.0 1.0 0.0; 7.0 2.0 1.0], [1.0 2.0 3.0; 0.0 -3.0 -6.0; 0.0 0.0 1.0])"
      ]
     },
     "metadata": {},
     "output_type": "display_data"
    }
   ],
   "source": [
    "L, U = lufact(A)"
   ]
  },
  {
   "cell_type": "markdown",
   "metadata": {},
   "source": [
    "Now to solve the linear equation we can use the LU factorization of $A$ and solve the linear equations by solving $Ly = b$ and $Ux = y$. First we define a function for the forward substitution to solve $Ly = b$. The function should take the lower triangular matrix $L$ and the vector $b$ as input and return the solution vector $y$."
   ]
  },
  {
   "cell_type": "code",
   "execution_count": 5,
   "metadata": {},
   "outputs": [
    {
     "data": {
      "text/plain": [
       "forwardsub (generic function with 1 method)"
      ]
     },
     "metadata": {},
     "output_type": "display_data"
    }
   ],
   "source": [
    "function forwardsub(L,b)\n",
    "    n = size(L,1)\n",
    "    y = zeros(n)\n",
    "    y[1] = b[1]/L[1,1]\n",
    "    for i in 2:n\n",
    "        s = sum( L[i,j]*y[j] for j in 1:i-1 )\n",
    "        y[i] = ( b[i] - s ) / L[i,i]\n",
    "    end\n",
    "    return y\n",
    "end"
   ]
  },
  {
   "cell_type": "markdown",
   "metadata": {},
   "source": [
    "Now let's define a function for the back substitution to solve $Ux = y$. The function should take the upper triangular matrix $U$ and the vector $y$ as input and return the solution vector $x$."
   ]
  },
  {
   "cell_type": "code",
   "execution_count": 6,
   "metadata": {},
   "outputs": [
    {
     "data": {
      "text/plain": [
       "backsub (generic function with 1 method)"
      ]
     },
     "metadata": {},
     "output_type": "display_data"
    }
   ],
   "source": [
    "function backsub(U,y)\n",
    "    n = size(U,1)\n",
    "    x = zeros(n)\n",
    "    x[n] = y[n]/U[n,n]\n",
    "    for i in n-1:-1:1\n",
    "        s = sum( U[i,j]*x[j] for j in i+1:n )\n",
    "        x[i] = ( y[i] - s ) / U[i,i]\n",
    "    end\n",
    "    return x\n",
    "end"
   ]
  },
  {
   "cell_type": "markdown",
   "metadata": {},
   "source": [
    "Finally we want to test our implementation using the following matrix $A$ and vector $b$:"
   ]
  },
  {
   "cell_type": "code",
   "execution_count": 7,
   "metadata": {},
   "outputs": [],
   "source": [
    "A = [2 0 4 3; -4 5 -7 -10; 1 15 2 -4.5; -2 0 2 -13];\n",
    "b = [4,9,9,4];"
   ]
  },
  {
   "cell_type": "markdown",
   "metadata": {},
   "source": [
    "First we calculate the LU factorization of $A$."
   ]
  },
  {
   "cell_type": "code",
   "execution_count": 8,
   "metadata": {},
   "outputs": [
    {
     "data": {
      "text/plain": [
       "([1.0 0.0 0.0 0.0; -2.0 1.0 0.0 0.0; 0.5 3.0 1.0 0.0; -1.0 0.0 -2.0 1.0], [2.0 0.0 4.0 3.0; 0.0 5.0 1.0 -4.0; 0.0 0.0 -3.0 6.0; 0.0 0.0 0.0 2.0])"
      ]
     },
     "metadata": {},
     "output_type": "display_data"
    }
   ],
   "source": [
    "L,U = lufact(A)"
   ]
  },
  {
   "cell_type": "markdown",
   "metadata": {},
   "source": [
    "Now we can solve the linear equation by solving $Ly = b$ and $Ux = y$."
   ]
  },
  {
   "cell_type": "code",
   "execution_count": 9,
   "metadata": {},
   "outputs": [
    {
     "data": {
      "text/plain": [
       "4-element Vector{Float64}:\n",
       " 192.66666666666666\n",
       " -15.533333333333335\n",
       " -65.33333333333333\n",
       " -40.0"
      ]
     },
     "metadata": {},
     "output_type": "display_data"
    }
   ],
   "source": [
    "z = forwardsub(L,b)\n",
    "x = backsub(U,z)"
   ]
  },
  {
   "cell_type": "markdown",
   "metadata": {},
   "source": [
    "And let's check the error of the solution:"
   ]
  },
  {
   "cell_type": "code",
   "execution_count": 10,
   "metadata": {},
   "outputs": [
    {
     "data": {
      "text/plain": [
       "4-element Vector{Float64}:\n",
       "  0.0\n",
       " -5.684341886080802e-14\n",
       "  2.842170943040401e-14\n",
       "  0.0"
      ]
     },
     "metadata": {},
     "output_type": "display_data"
    }
   ],
   "source": [
    "b - A*x"
   ]
  },
  {
   "cell_type": "markdown",
   "metadata": {},
   "source": [
    "Nice! We actually found a way to solve linear equations in an efficient way. There is one caveat though. This method is not always stable and can fail for some matrices. For example if we swap the second and fourth row of $A$ the resluting matrix $A$ is not invertible and the LU factorization fails: "
   ]
  },
  {
   "cell_type": "code",
   "execution_count": 11,
   "metadata": {},
   "outputs": [
    {
     "data": {
      "text/plain": [
       "4×4 LowerTriangular{Float64, Matrix{Float64}}:\n",
       "  1.0     ⋅      ⋅    ⋅ \n",
       " -1.0  NaN       ⋅    ⋅ \n",
       "  0.5   Inf   NaN     ⋅ \n",
       " -2.0   Inf   NaN    1.0"
      ]
     },
     "metadata": {},
     "output_type": "display_data"
    }
   ],
   "source": [
    "A[[2,4],:] = A[[4,2],:]  \n",
    "L,U = lufact(A)\n",
    "L"
   ]
  },
  {
   "cell_type": "markdown",
   "metadata": {},
   "source": [
    "We can actually see why this fails if we take a look at the matrix $A$. The problem is that element $a_{22}$ is zero. In the second step we are supposed to divide by $a_{22}$ which is zero. "
   ]
  },
  {
   "cell_type": "code",
   "execution_count": 12,
   "metadata": {},
   "outputs": [
    {
     "data": {
      "text/plain": [
       "4×4 Matrix{Float64}:\n",
       "  2.0   0.0   4.0    3.0\n",
       " -2.0   0.0   2.0  -13.0\n",
       "  1.0  15.0   2.0   -4.5\n",
       " -4.0   5.0  -7.0  -10.0"
      ]
     },
     "metadata": {},
     "output_type": "display_data"
    }
   ],
   "source": [
    "A"
   ]
  },
  {
   "cell_type": "markdown",
   "metadata": {},
   "source": [
    "However, we know that this linear equation is actually solvable. Can we fix this? "
   ]
  },
  {
   "cell_type": "markdown",
   "metadata": {},
   "source": [
    "## Pivoting\n",
    "To avoid dividing by zero, we can change the order of the coulmns before we perform the elimination in each column. We will use the largest available element in the column we are working on as the pivot element - the element we divide by. This technique is known as column pivoting. "
   ]
  },
  {
   "cell_type": "code",
   "execution_count": 13,
   "metadata": {},
   "outputs": [
    {
     "data": {
      "text/plain": [
       "4×4 Matrix{Float64}:\n",
       "  2.0   0.0   4.0    3.0\n",
       " -2.0   0.0   2.0  -13.0\n",
       "  1.0  15.0   2.0   -4.5\n",
       " -4.0   5.0  -7.0  -10.0"
      ]
     },
     "metadata": {},
     "output_type": "display_data"
    }
   ],
   "source": [
    "A = [2 0 4 3 ; -2 0 2 -13; 1 15 2 -4.5 ; -4 5 -7 -10]"
   ]
  },
  {
   "cell_type": "markdown",
   "metadata": {},
   "source": [
    "Using the same matirx as before the first step looks like this:"
   ]
  },
  {
   "cell_type": "code",
   "execution_count": 14,
   "metadata": {},
   "outputs": [
    {
     "data": {
      "text/plain": [
       "4×4 Matrix{Float64}:\n",
       " 0.0   2.5   0.5   -2.0\n",
       " 0.0  -2.5   5.5   -8.0\n",
       " 0.0  16.25  0.25  -7.0\n",
       " 0.0   0.0   0.0    0.0"
      ]
     },
     "metadata": {},
     "output_type": "display_data"
    }
   ],
   "source": [
    "A_1 = float(copy(A))\n",
    "p = fill(0,4)\n",
    "i = argmax(abs.(A_1[:,1])) # find largest element \n",
    "p[1] = i # store index of largest element in p[1]\n",
    "L,U = zeros(4,4),zeros(4,4)\n",
    "U[1,:] = A_1[i,:] # copy row i of A to row 1 of U \n",
    "# perform elimination as before\n",
    "L[:,1] = A_1[:,1]/U[1,1] \n",
    "A_2 = A_1 - L[:,1]*U[1,:]'"
   ]
  },
  {
   "cell_type": "markdown",
   "metadata": {},
   "source": [
    "The second step looks like this:"
   ]
  },
  {
   "cell_type": "code",
   "execution_count": 15,
   "metadata": {},
   "outputs": [
    {
     "data": {
      "text/plain": [
       "4×4 Matrix{Float64}:\n",
       " 0.0  0.0  0.461538  -0.923077\n",
       " 0.0  0.0  5.53846   -9.07692\n",
       " 0.0  0.0  0.0        0.0\n",
       " 0.0  0.0  0.0        0.0"
      ]
     },
     "metadata": {},
     "output_type": "display_data"
    }
   ],
   "source": [
    "i = argmax(abs.(A_2[:,2])) \n",
    "p[2] = i \n",
    "U[2,:] = A_2[i,:]\n",
    "L[:,2] = A_2[:,2]/U[2,2]\n",
    "A_3 = A_2 - L[:,2]*U[2,:]'"
   ]
  },
  {
   "cell_type": "markdown",
   "metadata": {},
   "source": [
    "The third step looks like this:"
   ]
  },
  {
   "cell_type": "code",
   "execution_count": 16,
   "metadata": {},
   "outputs": [
    {
     "data": {
      "text/plain": [
       "4×4 Matrix{Float64}:\n",
       " 0.0  0.0  0.0  -0.166667\n",
       " 0.0  0.0  0.0   0.0\n",
       " 0.0  0.0  0.0   0.0\n",
       " 0.0  0.0  0.0   0.0"
      ]
     },
     "metadata": {},
     "output_type": "display_data"
    }
   ],
   "source": [
    "i = argmax(abs.(A_3[:,3])) \n",
    "p[3] = i\n",
    "U[3,:] = A_3[i,:]\n",
    "L[:,3] = A_3[:,3]/U[3,3]\n",
    "A_4 = A_3 - L[:,3]*U[3,:]'"
   ]
  },
  {
   "cell_type": "markdown",
   "metadata": {},
   "source": [
    "And the last step looks like this:"
   ]
  },
  {
   "cell_type": "code",
   "execution_count": 17,
   "metadata": {},
   "outputs": [
    {
     "data": {
      "text/plain": [
       "4×4 Matrix{Float64}:\n",
       " -0.5    0.153846  0.0833333   1.0\n",
       "  0.5   -0.153846  1.0        -0.0\n",
       " -0.25   1.0       0.0        -0.0\n",
       "  1.0    0.0       0.0        -0.0"
      ]
     },
     "metadata": {},
     "output_type": "display_data"
    }
   ],
   "source": [
    "i = argmax(abs.(A_4[:,4])) \n",
    "p[4] = i\n",
    "U[4,:] = A_4[i,:]\n",
    "L[:,4] = A_4[:,4]/U[4,4];\n",
    "L"
   ]
  },
  {
   "cell_type": "markdown",
   "metadata": {},
   "source": [
    "We can see that we can solve the linear equation by swapping the columns. However we can see that we also changed the order of the elements in the lower triangular matrix $L$. We can fix this by keeping track of the order of the columns and swapping the elements in the lower triangular matrix $L$ back accordingly: "
   ]
  },
  {
   "cell_type": "code",
   "execution_count": 18,
   "metadata": {},
   "outputs": [
    {
     "data": {
      "text/plain": [
       "4×4 Matrix{Float64}:\n",
       "  1.0    0.0       0.0        -0.0\n",
       " -0.25   1.0       0.0        -0.0\n",
       "  0.5   -0.153846  1.0        -0.0\n",
       " -0.5    0.153846  0.0833333   1.0"
      ]
     },
     "metadata": {},
     "output_type": "display_data"
    }
   ],
   "source": [
    "L[p,:]"
   ]
  },
  {
   "cell_type": "markdown",
   "metadata": {},
   "source": [
    "We can now write a function that calculates the LU factorization of a square matrix $A$ using column pivoting. The function should take the matrix $A$ as input and return the lower triangular matrix $L$, the upper triangular matrix $U$ and a vector $p$ containing the pivot elements."
   ]
  },
  {
   "cell_type": "code",
   "execution_count": 19,
   "metadata": {},
   "outputs": [
    {
     "data": {
      "text/plain": [
       "plufact (generic function with 1 method)"
      ]
     },
     "metadata": {},
     "output_type": "display_data"
    }
   ],
   "source": [
    "function plufact(A)\n",
    "    n = size(A,1)\n",
    "    L = zeros(n,n)\n",
    "    U = zeros(n,n)\n",
    "    p = fill(0,n)\n",
    "    Aₖ = float(copy(A))\n",
    "\n",
    "    # Reduction by outer products\n",
    "    for k in 1:n-1\n",
    "        p[k] = argmax(abs.(Aₖ[:,k])) # find largest element in column k and store in p[k]\n",
    "        U[k,:] = Aₖ[p[k],:]\n",
    "        L[:,k] = Aₖ[:,k]/U[k,k]\n",
    "        Aₖ -= L[:,k]*U[k,:]'\n",
    "    end\n",
    "    p[n] = argmax(abs.(Aₖ[:,n]))\n",
    "    U[n,n] = Aₖ[p[n],n]\n",
    "    L[:,n] = Aₖ[:,n]/U[n,n]\n",
    "    return LowerTriangular(L[p,:]),U,p\n",
    "end"
   ]
  },
  {
   "cell_type": "code",
   "execution_count": 20,
   "metadata": {},
   "outputs": [
    {
     "data": {
      "text/plain": [
       "([1.0 0.0 0.0 0.0; -0.25 1.0 0.0 0.0; 0.5 -0.15384615384615385 1.0 0.0; -0.5 0.15384615384615385 0.08333333333333334 1.0], [-4.0 5.0 -7.0 -10.0; 0.0 16.25 0.25 -7.0; 0.0 0.0 5.538461538461538 -9.076923076923077; 0.0 0.0 0.0 -0.1666666666666664], [4, 3, 2, 1])"
      ]
     },
     "metadata": {},
     "output_type": "display_data"
    }
   ],
   "source": [
    "L, U, p = plufact(A)"
   ]
  },
  {
   "cell_type": "markdown",
   "metadata": {},
   "source": [
    "To solve for a given vector $b$ we can now use the pivot LU factorization of $A$ by also changing the order of the elements in the vector $b$ accordingly:"
   ]
  },
  {
   "cell_type": "code",
   "execution_count": 21,
   "metadata": {},
   "outputs": [
    {
     "data": {
      "text/plain": [
       "4-element Vector{Float64}:\n",
       "  36.19325500817398\n",
       "  -3.003597307711856\n",
       " -12.25803589440019\n",
       "  -7.486569393952531"
      ]
     },
     "metadata": {},
     "output_type": "display_data"
    }
   ],
   "source": [
    "b = rand(4)\n",
    "z = forwardsub(L,b[p])\n",
    "x = backsub(U,z)\n"
   ]
  },
  {
   "cell_type": "code",
   "execution_count": 22,
   "metadata": {},
   "outputs": [
    {
     "data": {
      "text/plain": [
       "4-element Vector{Float64}:\n",
       " -6.8833827526759706e-15\n",
       "  1.5432100042289676e-14\n",
       " -2.220446049250313e-16\n",
       "  1.9317880628477724e-14"
      ]
     },
     "metadata": {},
     "output_type": "display_data"
    }
   ],
   "source": [
    "b - A*x"
   ]
  }
 ],
 "metadata": {
  "kernelspec": {
   "display_name": "Julia 1.9.0",
   "language": "julia",
   "name": "julia-1.9"
  },
  "language_info": {
   "file_extension": ".jl",
   "mimetype": "application/julia",
   "name": "julia",
   "version": "1.9.0"
  },
  "orig_nbformat": 4
 },
 "nbformat": 4,
 "nbformat_minor": 2
}
