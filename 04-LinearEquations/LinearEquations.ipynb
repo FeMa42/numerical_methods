{
 "cells": [
  {
   "cell_type": "markdown",
   "metadata": {},
   "source": [
    "(linear-algebra-in-julia)=\n",
    "# 4.1 Linear Algebra in Julia\n",
    "First we need to learn how to do linear algebra in Julia. In the first exercise we learned how to generate and manipulate vectors and matrices. We will now learn how to do linear algebra with these objects. "
   ]
  },
  {
   "cell_type": "markdown",
   "metadata": {},
   "source": [
    "## Transposition\n",
    "As in other languages `A'` is the conjugate transpose, or adjoint"
   ]
  },
  {
   "cell_type": "code",
   "execution_count": null,
   "metadata": {},
   "outputs": [],
   "source": [
    "import Pkg\n",
    "Pkg.instantiate()"
   ]
  },
  {
   "cell_type": "code",
   "execution_count": 23,
   "metadata": {},
   "outputs": [
    {
     "data": {
      "text/plain": [
       "3×3 Matrix{Int64}:\n",
       " 1  2   3\n",
       " 4  5   6\n",
       " 7  8  10"
      ]
     },
     "metadata": {},
     "output_type": "display_data"
    }
   ],
   "source": [
    "A = [1 2 3; 4 5 6; 7 8 10]"
   ]
  },
  {
   "cell_type": "code",
   "execution_count": 24,
   "metadata": {},
   "outputs": [
    {
     "data": {
      "text/plain": [
       "3×3 adjoint(::Matrix{Int64}) with eltype Int64:\n",
       " 1  4   7\n",
       " 2  5   8\n",
       " 3  6  10"
      ]
     },
     "metadata": {},
     "output_type": "display_data"
    }
   ],
   "source": [
    "A'"
   ]
  },
  {
   "cell_type": "code",
   "execution_count": 25,
   "metadata": {},
   "outputs": [
    {
     "data": {
      "text/plain": [
       "3×3 transpose(::Matrix{Int64}) with eltype Int64:\n",
       " 1  4   7\n",
       " 2  5   8\n",
       " 3  6  10"
      ]
     },
     "metadata": {},
     "output_type": "display_data"
    }
   ],
   "source": [
    "transpose(A)"
   ]
  },
  {
   "cell_type": "markdown",
   "metadata": {},
   "source": [
    "### Transposed multiplication\n",
    "Julia allows us to write this without *"
   ]
  },
  {
   "cell_type": "code",
   "execution_count": 26,
   "metadata": {},
   "outputs": [
    {
     "data": {
      "text/plain": [
       "3×3 Matrix{Int64}:\n",
       " 66   78   97\n",
       " 78   93  116\n",
       " 97  116  145"
      ]
     },
     "metadata": {},
     "output_type": "display_data"
    }
   ],
   "source": [
    "A'A"
   ]
  },
  {
   "cell_type": "markdown",
   "metadata": {},
   "source": [
    "Note that you can also use `A\\b` to solve the linear equation even if `A` is not square. `A\\b` gives us the *least squares solution* if we have an overdetermined linear system (a \"tall\" matrix). If we have an underdetermined linear system (a \"short\" matrix) `A\\b` gives us the minimum norm solution. "
   ]
  },
  {
   "cell_type": "markdown",
   "metadata": {},
   "source": [
    "## Linear algebra package\n",
    "Julia has a built in package for linear algebra called `LinearAlgebra`. This package contains a lot of useful functions for linear algebra. Let's look at some of them."
   ]
  },
  {
   "cell_type": "code",
   "execution_count": 27,
   "metadata": {},
   "outputs": [],
   "source": [
    "using LinearAlgebra"
   ]
  },
  {
   "cell_type": "markdown",
   "metadata": {},
   "source": [
    "Computing the dot product of two vectors is done using the `dot` function:"
   ]
  },
  {
   "cell_type": "code",
   "execution_count": 28,
   "metadata": {},
   "outputs": [
    {
     "data": {
      "text/plain": [
       "14"
      ]
     },
     "metadata": {},
     "output_type": "display_data"
    }
   ],
   "source": [
    "v = [1, 2, 3]\n",
    "dot(v, v)"
   ]
  },
  {
   "cell_type": "markdown",
   "metadata": {},
   "source": [
    "The outer product of two vectors is computed using the transpose of the second vector:"
   ]
  },
  {
   "cell_type": "code",
   "execution_count": 29,
   "metadata": {},
   "outputs": [
    {
     "data": {
      "text/plain": [
       "3×3 Matrix{Int64}:\n",
       " 1  2  3\n",
       " 2  4  6\n",
       " 3  6  9"
      ]
     },
     "metadata": {},
     "output_type": "display_data"
    }
   ],
   "source": [
    "v*v'"
   ]
  },
  {
   "cell_type": "markdown",
   "metadata": {},
   "source": [
    "We can compute inverse of a matrix using the `inv` function:"
   ]
  },
  {
   "cell_type": "code",
   "execution_count": 30,
   "metadata": {},
   "outputs": [
    {
     "data": {
      "text/plain": [
       "3×3 Matrix{Float64}:\n",
       " -0.666667  -1.33333   1.0\n",
       " -0.666667   3.66667  -2.0\n",
       "  1.0       -2.0       1.0"
      ]
     },
     "metadata": {},
     "output_type": "display_data"
    }
   ],
   "source": [
    "inv(A)"
   ]
  },
  {
   "cell_type": "markdown",
   "metadata": {},
   "source": [
    "## Linear Equation solver in Julia \n",
    "In the next Notebook we will implement our own solvers. However, Julia already has a built in solver for linear equations. We can use the backslash operator `\\` to solve a linear equation. For example we can solve the linear equation $Ax = b$ by writing `x = A \\ b`. Note, however, that while this solver is already quite good in solving a lot of linear equations more sophisitcated solver which are adapted to specific problems sets are often more efficient and accurate. It is also important to keep in mind that using a generic solver like the backslash operator can fail silently or can give you an very inaccurate solution without warning. "
   ]
  },
  {
   "cell_type": "code",
   "execution_count": 38,
   "metadata": {},
   "outputs": [
    {
     "data": {
      "text/plain": [
       "4-element Vector{Float64}:\n",
       " 3.999999999999949\n",
       " 9.000000000000005\n",
       " 9.000000000000018\n",
       " 4.000000000000011"
      ]
     },
     "metadata": {},
     "output_type": "display_data"
    }
   ],
   "source": [
    "A = [2 0 4 3 ; -2 0 2 -13; 1 15 2 -4.5 ; -4 5 -7 -10]\n",
    "x = [4,9,9,4]\n",
    "b = A*x\n",
    "x_hat = A\\b"
   ]
  },
  {
   "cell_type": "markdown",
   "metadata": {},
   "source": [
    "We can also do the LU factorization of $A$ using the `lu` function (from the LinearAlgebra package). The function returns the lower triangular matrix $L$, the upper triangular matrix $U$. "
   ]
  },
  {
   "cell_type": "code",
   "execution_count": 39,
   "metadata": {},
   "outputs": [
    {
     "data": {
      "text/plain": [
       "LU{Float64, Matrix{Float64}, Vector{Int64}}\n",
       "L factor:\n",
       "4×4 Matrix{Float64}:\n",
       "  1.0    0.0       0.0        0.0\n",
       " -0.25   1.0       0.0        0.0\n",
       "  0.5   -0.153846  1.0        0.0\n",
       " -0.5    0.153846  0.0833333  1.0\n",
       "U factor:\n",
       "4×4 Matrix{Float64}:\n",
       " -4.0   5.0   -7.0      -10.0\n",
       "  0.0  16.25   0.25      -7.0\n",
       "  0.0   0.0    5.53846   -9.07692\n",
       "  0.0   0.0    0.0       -0.166667"
      ]
     },
     "metadata": {},
     "output_type": "display_data"
    }
   ],
   "source": [
    "lu(A)"
   ]
  },
  {
   "cell_type": "markdown",
   "metadata": {},
   "source": [
    "For more advanced linear equation solving we can use iterativesolvers.jl. It also contains the \"Jacobi\" and \"Gauss-Seidel\" solvers we had in the lecture. To get a list of solvers you can look at the documentation: https://iterativesolvers.julialinearalgebra.org/dev/ "
   ]
  },
  {
   "cell_type": "markdown",
   "metadata": {},
   "source": [
    "We can use the inverse to solve a linear equation. However, this is in general not recommended since it is often slower and less accurate than using `\\`. "
   ]
  },
  {
   "cell_type": "code",
   "execution_count": 41,
   "metadata": {},
   "outputs": [
    {
     "data": {
      "text/plain": [
       "4-element Vector{Float64}:\n",
       " 4.000000000000025\n",
       " 9.000000000000025\n",
       " 9.000000000000036\n",
       " 4.000000000000051"
      ]
     },
     "metadata": {},
     "output_type": "display_data"
    }
   ],
   "source": [
    "x_hat_2 = inv(A)*b"
   ]
  },
  {
   "cell_type": "markdown",
   "metadata": {},
   "source": [
    "### Norm of a vector\n",
    "There are different commonly used norms of a vector.\n",
    "- The 2-norm is the Euclidean norm $\\|x\\|_2 = \\sqrt{\\sum_{i=1}^n x_i^2}$\n",
    "- The 1-norm is the sum of the absolute values of the elements $\\|x\\|_1 = \\sum_{i=1}^n |x_i|$\n",
    "- The $\\infty$-norm is the maximum absolute value of the elements $\\|x\\|_\\infty = \\max_i |x_i|$\n",
    "\n",
    "The norm of a vector is computed using the `norm` function:"
   ]
  },
  {
   "cell_type": "code",
   "execution_count": 12,
   "metadata": {},
   "outputs": [
    {
     "data": {
      "text/plain": [
       "3.872983346207417"
      ]
     },
     "metadata": {},
     "output_type": "display_data"
    }
   ],
   "source": [
    "x = [2,-3,1,-1]\n",
    "twonorm = norm(x) # 2-norm"
   ]
  },
  {
   "cell_type": "code",
   "execution_count": 13,
   "metadata": {},
   "outputs": [
    {
     "data": {
      "text/plain": [
       "3.0"
      ]
     },
     "metadata": {},
     "output_type": "display_data"
    }
   ],
   "source": [
    "infnorm = norm(x,Inf)"
   ]
  },
  {
   "cell_type": "code",
   "execution_count": 14,
   "metadata": {},
   "outputs": [
    {
     "data": {
      "text/plain": [
       "7.0"
      ]
     },
     "metadata": {},
     "output_type": "display_data"
    }
   ],
   "source": [
    "onenorm = norm(x,1)"
   ]
  },
  {
   "cell_type": "markdown",
   "metadata": {},
   "source": [
    "We can also normalize a vector using the `normalize` function:"
   ]
  },
  {
   "cell_type": "code",
   "execution_count": 15,
   "metadata": {},
   "outputs": [
    {
     "data": {
      "text/plain": [
       "4-element Vector{Float64}:\n",
       "  0.5163977794943222\n",
       " -0.7745966692414833\n",
       "  0.2581988897471611\n",
       " -0.2581988897471611"
      ]
     },
     "metadata": {},
     "output_type": "display_data"
    }
   ],
   "source": [
    "normalize(x,2)"
   ]
  },
  {
   "cell_type": "markdown",
   "metadata": {},
   "source": [
    "### Matrix norms\n",
    "There are also different matrix norms. If we view the matrix similar to a vector and use the 2-norm we get the Frobenius norm $\\|A\\|_F = \\sqrt{\\sum_{i=1}^m \\sum_{j=1}^n |a_{ij}|^2}$. \n",
    "However, often we want to use the induced matrix norm which is defined as $\\|A\\| = \\max_{x \\neq 0} \\frac{\\|Ax\\|}{\\|x\\|}$. \n"
   ]
  },
  {
   "cell_type": "code",
   "execution_count": 16,
   "metadata": {},
   "outputs": [
    {
     "data": {
      "text/plain": [
       "2×2 Matrix{Int64}:\n",
       " 2   0\n",
       " 1  -1"
      ]
     },
     "metadata": {},
     "output_type": "display_data"
    }
   ],
   "source": [
    "A = [ 2 0; 1 -1 ]"
   ]
  },
  {
   "cell_type": "code",
   "execution_count": 17,
   "metadata": {},
   "outputs": [
    {
     "data": {
      "text/plain": [
       "2.449489742783178"
      ]
     },
     "metadata": {},
     "output_type": "display_data"
    }
   ],
   "source": [
    "Fronorm = norm(A)"
   ]
  },
  {
   "cell_type": "code",
   "execution_count": 18,
   "metadata": {},
   "outputs": [
    {
     "data": {
      "text/plain": [
       "2.2882456112707374"
      ]
     },
     "metadata": {},
     "output_type": "display_data"
    }
   ],
   "source": [
    "twonorm = opnorm(A)"
   ]
  },
  {
   "cell_type": "code",
   "execution_count": 19,
   "metadata": {},
   "outputs": [
    {
     "data": {
      "text/plain": [
       "3.0"
      ]
     },
     "metadata": {},
     "output_type": "display_data"
    }
   ],
   "source": [
    "onenorm = opnorm(A,1) # 1-norm: sum down the first matrix dimension "
   ]
  },
  {
   "cell_type": "code",
   "execution_count": 20,
   "metadata": {},
   "outputs": [
    {
     "data": {
      "text/plain": [
       "2.0"
      ]
     },
     "metadata": {},
     "output_type": "display_data"
    }
   ],
   "source": [
    "infnorm = opnorm(A,Inf) # infinity-norm: sum down the second matrix dimension"
   ]
  }
 ],
 "metadata": {
  "kernelspec": {
   "display_name": "Julia 1.9.0",
   "language": "julia",
   "name": "julia-1.9"
  },
  "language_info": {
   "file_extension": ".jl",
   "mimetype": "application/julia",
   "name": "julia",
   "version": "1.9.0"
  },
  "orig_nbformat": 4
 },
 "nbformat": 4,
 "nbformat_minor": 2
}
