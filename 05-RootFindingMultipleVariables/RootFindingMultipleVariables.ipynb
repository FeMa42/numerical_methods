{
 "cells": [
  {
   "attachments": {},
   "cell_type": "markdown",
   "metadata": {},
   "source": [
    "(Newton-Method-with-multiple-variables)=\n",
    "# 5.2 Newton Method with multiple variables\n",
    "\n",
    ">**Problem Definition**:\n",
    ">\n",
    ">We want to find a vector $\\mathbf{x} = (x_1, \\dots, x_n)$, given on a continuous vector-valued function $\\mathbf{f}= (f_1, \\dots f_n)$ mapping from $\\mathbb{R}^n$ into $\\mathbb{R}^n$, such that $  \\mathbf{f}(\\mathbf{x}) = \\mathbf{0} $.\n",
    ">\n",
    ">The solution $\\mathbf{x}$ is called the **root** of the vector-valued function. \n",
    "\n",
    "**Linear Model**: We can use the first Taylor approximation (tangent) at the point $\\mathbf{x}_n$ and use the **Newton method** to find the root of the function with multiple variables:\n",
    "\n",
    "$$\n",
    "\\mathbf{f}(\\mathbf{x}+\\mathbf{h}) = \\mathbf{f}(\\mathbf{x}) + \\mathbf{J}(\\mathbf{x})\\mathbf{h} + O(\\| \\mathbf{h} \\|^2),\n",
    "$$\n",
    "\n",
    "where $\\mathbf{J}(\\mathbf{x})$ is the Jacobian matrix of $\\mathbf{f}$ at $\\mathbf{x}$:\n",
    "\n",
    "$$\n",
    "\\begin{split}\\mathbf{J}(\\mathbf{x}) =\n",
    "  \\begin{bmatrix}\n",
    "    \\rule[2mm]{0pt}{1em}\\frac{\\partial f_1}{\\partial x_1} & \\frac{\\partial f_1}{\\partial x_2} & \\cdots & \\frac{\\partial f_1}{\\partial x_n}\\\\[2mm]\n",
    "    \\frac{\\partial f_2}{\\partial x_1} & \\frac{\\partial f_2}{\\partial x_2} & \\cdots & \\frac{\\partial f_2}{\\partial x_n}\\\\[1mm]\n",
    "    \\vdots & \\vdots & & \\vdots\\\\[1mm]\n",
    "    \\rule[-3mm]{0pt}{1em} \\frac{\\partial f_n}{\\partial x_1} & \\frac{\\partial f_n}{\\partial x_2} & \\cdots & \\frac{\\partial f_n}{\\partial x_n}\n",
    "  \\end{bmatrix} = \\left[ \\frac{\\partial f_i}{\\partial x_j} \\right]_{\\,i,j=1,\\ldots,n}.\\end{split}\n",
    "$$\n",
    "\n",
    "We set $\\mathbf{f}(\\mathbf{x}_{n+1}) = \\mathbf{0}$ and solved for $\\mathbf{x}$:\n",
    "\n",
    "$$\n",
    "\\begin{split}\\begin{split}\n",
    "  \\mathbf{0} &= \\mathbf{f}(\\mathbf{x}_n) + \\mathbf{J}(\\mathbf{x}_n)\\mathbf{h}\\\\\n",
    "  \\mathbf{h} &= -\\mathbf{J}(\\mathbf{x}_n)^{-1}\\mathbf{f}(\\mathbf{x}_n)\\\\\n",
    "  \\mathbf{x}_{n+1} &= \\mathbf{x}_n - \\mathbf{J}(\\mathbf{x}_n)^{-1}\\mathbf{f}(\\mathbf{x}_n).\n",
    "\\end{split}\\end{split}\n",
    "$$\n",
    "\n",
    "The calculation rule for the next $\\mathbf{x}$ which is closer to the root is thus iteratively called over and over again. The calculation rule according to the Newton method is therefore:\n",
    "\n",
    "$$\n",
    "\\mathbf{x}_0 = \\text{start value}\n",
    "$$\n",
    "\n",
    "$$\n",
    "\\mathbf{x}_{1} = \\mathbf{x}_0 - \\mathbf{J}(\\mathbf{x}_0)^{-1}\\mathbf{f}(\\mathbf{x}_0)\n",
    "$$\n",
    "\n",
    "$$\n",
    "\\mathbf{x}_{2} = \\mathbf{x}_{1} - \\mathbf{J}(\\mathbf{x}_{1})^{-1}\\mathbf{f}(\\mathbf{x}_{1})\n",
    "$$\n",
    "\n",
    "$$\n",
    "...\n",
    "$$\n",
    "\n",
    "$$\n",
    "\\mathbf{x}_{n+1} = \\mathbf{x}_n - \\mathbf{J}(\\mathbf{x}_n)^{-1}\\mathbf{f}(\\mathbf{x}_n)\n",
    "$$\n",
    "\n",
    "We do this until we have reached the desired accuracy, i.e., the desired distance of $\\mathbf{f}(\\mathbf{x}_{n+1})$ to $\\mathbf{0}$.\n",
    "\n",
    "**Summary**: The Newton method is an iterative method for finding the root of a function with multiple variables. The calculation rule for the next $\\mathbf{x}$ which is closer to the root is thus iteratively called over and over again. When look at the calculation rule of the Newton method:\n",
    "\n",
    "$$\\mathbf{x}_{n+1} = \\mathbf{x}_n - \\mathbf{J}(\\mathbf{x}_n)^{-1}\\mathbf{f}(\\mathbf{x}_n)$$\n",
    "\n",
    "we see that we need to calculate the function $\\mathbf{f}(\\mathbf{x})$, the derivative of the function (the Jacobian $\\mathbf{J}(\\mathbf{x})$) and the inverse of the Jacobian matrix $\\mathbf{J}(\\mathbf{x})^{-1}$."
   ]
  },
  {
   "cell_type": "markdown",
   "metadata": {},
   "source": [
    "## Revisiting Derivatives and Linear Equations\n",
    "\n",
    "In Exercise 5. we have already seen how we can estimate the Jacobian of a function $\\mathbf{f}(\\mathbf{x})$. We can use forward diff to estimate the Jacobian of a function $\\mathbf{f}(\\mathbf{x})$ at a point $\\mathbf{x}$:"
   ]
  },
  {
   "cell_type": "code",
   "execution_count": 1,
   "metadata": {},
   "outputs": [],
   "source": [
    "import Pkg \n",
    "Pkg.instantiate()"
   ]
  },
  {
   "cell_type": "code",
   "execution_count": 2,
   "metadata": {},
   "outputs": [
    {
     "data": {
      "text/plain": [
       "2×2 Matrix{Float64}:\n",
       " 2.0   2.0\n",
       " 1.0  -2.0"
      ]
     },
     "metadata": {},
     "output_type": "display_data"
    }
   ],
   "source": [
    "using ForwardDiff\n",
    "\n",
    "f(x) = [x[1]^2 + x[2]^2 - 1, x[1] - x[2]^2]\n",
    "q = [1.0, 1.0]\n",
    "J_fd = ForwardDiff.jacobian(f, q)\n"
   ]
  },
  {
   "cell_type": "markdown",
   "metadata": {},
   "source": [
    "alternatively we can use reverse diff to estimate the Jacobian of a function $\\mathbf{f}(\\mathbf{x})$ at a point $\\mathbf{x}$:"
   ]
  },
  {
   "cell_type": "code",
   "execution_count": 3,
   "metadata": {},
   "outputs": [
    {
     "data": {
      "text/plain": [
       "2×2 Matrix{Float64}:\n",
       " 2.0   2.0\n",
       " 1.0  -2.0"
      ]
     },
     "metadata": {},
     "output_type": "display_data"
    }
   ],
   "source": [
    "using ReverseDiff\n",
    "\n",
    "J_rd = ReverseDiff.jacobian(f, q)"
   ]
  },
  {
   "cell_type": "markdown",
   "metadata": {},
   "source": [
    "In the last exercise we have also seen how we can solve a linear equation system:"
   ]
  },
  {
   "cell_type": "code",
   "execution_count": 4,
   "metadata": {},
   "outputs": [
    {
     "name": "stdout",
     "output_type": "stream",
     "text": [
      "x = A \\ b = [2.357212880321305, -0.5971981753154435, 0.3042022206687567]\n"
     ]
    },
    {
     "data": {
      "text/plain": [
       "3-element Vector{Float64}:\n",
       "  2.357212880321305\n",
       " -0.5971981753154435\n",
       "  0.3042022206687567"
      ]
     },
     "metadata": {},
     "output_type": "display_data"
    }
   ],
   "source": [
    "A = rand(3,3)\n",
    "b = rand(3)\n",
    "@show x = A\\b # Simple version of solving a linear system"
   ]
  },
  {
   "cell_type": "markdown",
   "metadata": {},
   "source": [
    "A more stable version of solving a linear system based on LU factorization:"
   ]
  },
  {
   "cell_type": "code",
   "execution_count": 5,
   "metadata": {},
   "outputs": [
    {
     "data": {
      "text/plain": [
       "3-element Vector{Float64}:\n",
       "  2.357212880321305\n",
       " -0.5971981753154435\n",
       "  0.3042022206687567"
      ]
     },
     "metadata": {},
     "output_type": "display_data"
    }
   ],
   "source": [
    "using LinearAlgebra\n",
    "L,U,p = lu(A)\n",
    "x = U\\(L\\b[p]) "
   ]
  },
  {
   "cell_type": "markdown",
   "metadata": {},
   "source": [
    "and how to calculate the inverse of a matrix using the `inv` function:"
   ]
  },
  {
   "cell_type": "code",
   "execution_count": 6,
   "metadata": {},
   "outputs": [
    {
     "data": {
      "text/plain": [
       "3×3 Matrix{Float64}:\n",
       "  3.10031   2.79536   -3.70595\n",
       " -2.32619  -0.520276   2.3533\n",
       "  0.23813  -1.64666    2.1339"
      ]
     },
     "metadata": {},
     "output_type": "display_data"
    }
   ],
   "source": [
    "inv(A) "
   ]
  },
  {
   "cell_type": "markdown",
   "metadata": {},
   "source": [
    "## Newton Method in Julia\n",
    "Now we already learnt that the inverse is not a good idea to use to solve the linear equation systems. Instead we can use the LU factorization to solve the linear equation system. We can first use the `lu` function to calculate the LU factorization of the Jacobian matrix and then use forward and backward substitution to solve $\\mathbf{J}(\\mathbf{x}_n)^{-1}\\mathbf{f}(\\mathbf{x}_n)$ instead of calculating the inverse of the Jacobian matrix. We need to calculate the function $\\mathbf{f}(\\mathbf{x})$ and the Jacobian matrix $\\mathbf{J}(\\mathbf{x}_n)$ in each iteration, since the Jacobian matrix depends on the point $\\mathbf{x}_n$. \n",
    "\n",
    "First we define the function `J(x)` which calculates the Jacobian. We can use the `ForwardDiff.jl` package to calculate the Jacobian matrix of a function $\\mathbf{f}(\\mathbf{x})$ at a point $\\mathbf{x}$:\n"
   ]
  },
  {
   "cell_type": "code",
   "execution_count": 7,
   "metadata": {},
   "outputs": [
    {
     "data": {
      "text/plain": [
       "J (generic function with 1 method)"
      ]
     },
     "metadata": {},
     "output_type": "display_data"
    }
   ],
   "source": [
    "J(x) = ForwardDiff.jacobian(f, x)"
   ]
  },
  {
   "cell_type": "markdown",
   "metadata": {},
   "source": [
    "Now we define a function `newton(f, J, x)` which implements the Newton method. Where `f` is the function $\\mathbf{f}(\\mathbf{x})$, `J` is the function `J(x)` which calculates the Jacobian matrix $\\mathbf{J}(\\mathbf{x})$ and `x` is the start value $\\mathbf{x}_0$. The function `newton` returns the root of the function $\\mathbf{f}(\\mathbf{x})$. The function iteratively calls the calculation rule of the Newton method using the LU factorization until the desired accuracy is reached. The desired accuracy is defined by the parameter `tolerance` which is set to `1e-10` by default. The maximum number of iterations is defined by the parameter `maxiter` which is set to `1000` by default. "
   ]
  },
  {
   "cell_type": "code",
   "execution_count": 8,
   "metadata": {},
   "outputs": [
    {
     "data": {
      "text/plain": [
       "newton (generic function with 1 method)"
      ]
     },
     "metadata": {},
     "output_type": "display_data"
    }
   ],
   "source": [
    "function newton(f, J, x, solver)\n",
    "   h = Inf64\n",
    "   tolerance = 10^(-10)\n",
    "   iter = 0\n",
    "   while (norm(h) > tolerance)\n",
    "      iter += 1\n",
    "      if iter > 1000\n",
    "         error(\"Too many iterations\")\n",
    "      end\n",
    "      h = solver(J(x), f(x))\n",
    "      x = x - h\n",
    "   end\n",
    "   return x\n",
    "end"
   ]
  },
  {
   "cell_type": "code",
   "execution_count": 9,
   "metadata": {},
   "outputs": [
    {
     "data": {
      "text/plain": [
       "LU_solver (generic function with 1 method)"
      ]
     },
     "metadata": {},
     "output_type": "display_data"
    }
   ],
   "source": [
    "function LU_solver(J_x, f_x)\n",
    "    L, U, p = lu(J_x)\n",
    "    h = U \\ (L \\ f_x[p])\n",
    "    return h\n",
    "end"
   ]
  },
  {
   "cell_type": "code",
   "execution_count": 10,
   "metadata": {},
   "outputs": [
    {
     "data": {
      "text/plain": [
       "invers_solver (generic function with 1 method)"
      ]
     },
     "metadata": {},
     "output_type": "display_data"
    }
   ],
   "source": [
    "function invers_solver(A, b)\n",
    "    A_inv = inv(A)\n",
    "    return A_inv * b\n",
    "end"
   ]
  },
  {
   "cell_type": "code",
   "execution_count": 11,
   "metadata": {},
   "outputs": [
    {
     "data": {
      "text/plain": [
       "simple_solver (generic function with 1 method)"
      ]
     },
     "metadata": {},
     "output_type": "display_data"
    }
   ],
   "source": [
    "function simple_solver(A, b)\n",
    "    return A \\ b\n",
    "end"
   ]
  },
  {
   "cell_type": "markdown",
   "metadata": {},
   "source": [
    "Let's test the Newton method for the function $\\mathbf{f}(\\mathbf{x})$:\n",
    "\n",
    "$$\n",
    "\\mathbf{f}(\\mathbf{x}) = \\begin{bmatrix}\n",
    "  \\rule[2mm]{0pt}{1em}x_1^2 + x_2^2 - 1\\\\[2mm]\n",
    "  x_1 - x_2\n",
    "\\end{bmatrix}\n",
    "$$\n",
    "\n",
    "Try to find the two roots of the function $\\mathbf{f}(\\mathbf{x})$ by using the Newton method:"
   ]
  },
  {
   "cell_type": "code",
   "execution_count": 12,
   "metadata": {},
   "outputs": [
    {
     "data": {
      "text/plain": [
       "2-element Vector{Float64}:\n",
       "  0.6180339887498949\n",
       " -0.7861513777574234"
      ]
     },
     "metadata": {},
     "output_type": "display_data"
    }
   ],
   "source": [
    "f(x) = [x[1]^2 + x[2]^2 - 1, x[1] - x[2]^2]\n",
    "x = [0.6, -1]\n",
    "newton(f, J, x, LU_solver)"
   ]
  },
  {
   "cell_type": "code",
   "execution_count": 13,
   "metadata": {},
   "outputs": [
    {
     "data": {
      "text/plain": [
       "2-element Vector{Float64}:\n",
       " 0.6180339887498949\n",
       " 0.7861513777574234"
      ]
     },
     "metadata": {},
     "output_type": "display_data"
    }
   ],
   "source": [
    "x = [0.6, 1]\n",
    "newton(f, J, x, LU_solver)"
   ]
  },
  {
   "cell_type": "code",
   "execution_count": 14,
   "metadata": {},
   "outputs": [
    {
     "data": {
      "text/plain": [
       "2-element Vector{Float64}:\n",
       "  0.6180339887498949\n",
       " -0.7861513777574234"
      ]
     },
     "metadata": {},
     "output_type": "display_data"
    }
   ],
   "source": [
    "x = [0.6, -1]\n",
    "newton(f, J, x, invers_solver) # This gives the same result as LU_solver"
   ]
  },
  {
   "cell_type": "code",
   "execution_count": 15,
   "metadata": {},
   "outputs": [
    {
     "data": {
      "text/plain": [
       "2-element Vector{Float64}:\n",
       "  0.6180339887498949\n",
       " -0.7861513777574234"
      ]
     },
     "metadata": {},
     "output_type": "display_data"
    }
   ],
   "source": [
    "x = [0.6, -1]\n",
    "newton(f, J, x, simple_solver) # This gives the same result as LU_solver"
   ]
  },
  {
   "cell_type": "markdown",
   "metadata": {},
   "source": [
    "Let's try to find the two roots of another set of functions $\\mathbf{f}(\\mathbf{x})$:\n",
    "\n",
    "$$\n",
    "\\mathbf{f}(\\mathbf{x}) = \\begin{bmatrix}\n",
    "  \\rule[2mm]{0pt}{1em}(1-x_1)^2 + (2-x_2)^2 - 5^2\\\\[2mm]\n",
    "  (6-x_1)^2 + (1-x_2)^2 - 6.2^2\\\\[2mm]  \n",
    "\\end{bmatrix}\n",
    "$$"
   ]
  },
  {
   "cell_type": "code",
   "execution_count": 16,
   "metadata": {},
   "outputs": [
    {
     "data": {
      "text/plain": [
       "2-element Vector{Float64}:\n",
       "  1.2573252032868072\n",
       " -2.993373983565962"
      ]
     },
     "metadata": {},
     "output_type": "display_data"
    }
   ],
   "source": [
    "f(x) = [(1-x[1])^2 + (2-x[2])^2 - 5^2, (6-x[1])^2 + (1-x[2])^2 - 6.2^2]\n",
    "x = [1, -2]\n",
    "newton(f, J, x, LU_solver)"
   ]
  },
  {
   "cell_type": "code",
   "execution_count": 17,
   "metadata": {},
   "outputs": [
    {
     "data": {
      "text/plain": [
       "2-element Vector{Float64}:\n",
       " 3.158059412097807\n",
       " 6.510297060489039"
      ]
     },
     "metadata": {},
     "output_type": "display_data"
    }
   ],
   "source": [
    "x = [3, 6]\n",
    "newton(f, J, x, LU_solver)"
   ]
  },
  {
   "attachments": {},
   "cell_type": "markdown",
   "metadata": {},
   "source": [
    "## Iterative solvers\n",
    "In the lecture we looked at the Jacobi and Gauss-Seidel method to solve a linear equation system. Many Iterative solvers for linear equations are provided by the iterative solvers package: https://iterativesolvers.julialinearalgebra.org/dev/ \n",
    "\n",
    "Let's try some of them out:"
   ]
  },
  {
   "cell_type": "code",
   "execution_count": 18,
   "metadata": {},
   "outputs": [
    {
     "name": "stderr",
     "output_type": "stream",
     "text": [
      "\u001b[32m\u001b[1m   Resolving\u001b[22m\u001b[39m package versions...\n"
     ]
    },
    {
     "name": "stderr",
     "output_type": "stream",
     "text": [
      "\u001b[32m\u001b[1m    Updating\u001b[22m\u001b[39m `~/.julia/environments/v1.9/Project.toml`\n",
      "  \u001b[90m[42fd0dbc] \u001b[39m\u001b[92m+ IterativeSolvers v0.9.2\u001b[39m\n",
      "\u001b[32m\u001b[1m    Updating\u001b[22m\u001b[39m `~/.julia/environments/v1.9/Manifest.toml`\n"
     ]
    },
    {
     "name": "stderr",
     "output_type": "stream",
     "text": [
      "  \u001b[90m[42fd0dbc] \u001b[39m\u001b[92m+ IterativeSolvers v0.9.2\u001b[39m\n"
     ]
    },
    {
     "name": "stderr",
     "output_type": "stream",
     "text": [
      "\u001b[32m\u001b[1mPrecompiling\u001b[22m\u001b[39m "
     ]
    },
    {
     "name": "stderr",
     "output_type": "stream",
     "text": [
      "project...\n"
     ]
    },
    {
     "name": "stderr",
     "output_type": "stream",
     "text": [
      "\u001b[32m  ✓ \u001b[39mIterativeSolvers\n"
     ]
    },
    {
     "name": "stderr",
     "output_type": "stream",
     "text": [
      "\u001b[32m  ✓ \u001b[39m\u001b[90mLinearSolve → LinearSolveIterativeSolversExt\u001b[39m\n",
      "  2 dependencies successfully precompiled in 3 seconds. 432 already precompiled.\n"
     ]
    }
   ],
   "source": [
    "Pkg.add(\"IterativeSolvers\")"
   ]
  },
  {
   "cell_type": "code",
   "execution_count": 19,
   "metadata": {},
   "outputs": [],
   "source": [
    "using IterativeSolvers"
   ]
  },
  {
   "cell_type": "code",
   "execution_count": 20,
   "metadata": {},
   "outputs": [
    {
     "data": {
      "text/plain": [
       "3-element Vector{Float64}:\n",
       " -0.04301850251458197\n",
       "  0.40752278668270153\n",
       "  0.49256882818621234"
      ]
     },
     "metadata": {},
     "output_type": "display_data"
    }
   ],
   "source": [
    "A = rand(3, 3)\n",
    "b = rand(3)\n",
    "x = A \\ b"
   ]
  },
  {
   "attachments": {},
   "cell_type": "markdown",
   "metadata": {},
   "source": [
    "Check the documentation (https://iterativesolvers.julialinearalgebra.org/dev/) and try the **idr(s)** and the **BiCGStab(l)** solver. What do you observe?"
   ]
  },
  {
   "cell_type": "code",
   "execution_count": 21,
   "metadata": {},
   "outputs": [
    {
     "data": {
      "text/plain": [
       "3-element Vector{Float64}:\n",
       " -0.043018502514582724\n",
       "  0.4075227866827018\n",
       "  0.49256882818621284"
      ]
     },
     "metadata": {},
     "output_type": "display_data"
    }
   ],
   "source": [
    "x = zeros(3)\n",
    "idrs!(x, A, b)"
   ]
  },
  {
   "cell_type": "code",
   "execution_count": 22,
   "metadata": {},
   "outputs": [
    {
     "data": {
      "text/plain": [
       "3-element Vector{Float64}:\n",
       " 0.00527745357055265\n",
       " 0.38241105098906764\n",
       " 0.4598722837166595"
      ]
     },
     "metadata": {},
     "output_type": "display_data"
    }
   ],
   "source": [
    "x = zeros(3)\n",
    "bicgstabl!(x, A, b)"
   ]
  }
 ],
 "metadata": {
  "kernelspec": {
   "display_name": "Julia 1.9.0",
   "language": "julia",
   "name": "julia-1.9"
  },
  "language_info": {
   "file_extension": ".jl",
   "mimetype": "application/julia",
   "name": "julia",
   "version": "1.9.0"
  },
  "orig_nbformat": 4
 },
 "nbformat": 4,
 "nbformat_minor": 2
}
