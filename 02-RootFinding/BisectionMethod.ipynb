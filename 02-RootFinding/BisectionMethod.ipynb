{
 "cells": [
  {
   "attachments": {},
   "cell_type": "markdown",
   "metadata": {},
   "source": [
    "(bisection-method)=\n",
    "# 2.1 Bisection Method\n",
    "The bisection method is a simple procedure that we have learned to find roots. It computes a sequence of values that converges to the root. We need two initial values $ a $ and $ b $ between which the root lies. We then calculate the mean value $ m $ and determine whether the root lies between $ a $ and $ m $, or between $ m $ and $ b $. We then replace the value $ a $ or $ b $ with $ m $ and repeat the process until we want to terminate or have reached a desired level of accuracy.\n",
    "\n",
    "We have the following function given and want to find the root:"
   ]
  },
  {
   "cell_type": "code",
   "execution_count": null,
   "metadata": {},
   "outputs": [],
   "source": [
    "import Pkg\n",
    "Pkg.instantiate()"
   ]
  },
  {
   "cell_type": "code",
   "execution_count": null,
   "metadata": {},
   "outputs": [],
   "source": [
    "using Plots\n",
    "f(x)= -26 + 85 * x - 91 * x^2 +44 * x^3 -8 * x^4 + x^5\n",
    "plot(f, [0.0:0.01:1.5], label=\"f\")"
   ]
  },
  {
   "attachments": {},
   "cell_type": "markdown",
   "metadata": {},
   "source": [
    "To determine between which values the root lies, we can evaluate the sign. If the signs are different, we know that a root must lie between them. For this purpose, we define a function that returns whether two functions have the same sign."
   ]
  },
  {
   "cell_type": "code",
   "execution_count": null,
   "metadata": {},
   "outputs": [],
   "source": [
    "# Funktion die testet ob a und b das gleiche Vorzeichen haben\n",
    "function samesign(a, b)\n",
    "    return a * b > 0\n",
    "end"
   ]
  },
  {
   "attachments": {},
   "cell_type": "markdown",
   "metadata": {},
   "source": [
    "Now for the method itself. We provide the method with our function and the interval within which we suspect the root to be. Then, the interval is halved, and it is determined in which subinterval the root lies. This subinterval is then halved again, and so on."
   ]
  },
  {
   "cell_type": "code",
   "execution_count": null,
   "metadata": {},
   "outputs": [],
   "source": [
    "function bisect(func, low, high)\n",
    "    #Find root of continuous function where f(low) and f(high) have opposite signs\n",
    "\n",
    "    if samesign(func(low), func(high))\n",
    "        return \"Error: No root found\"\n",
    "    end\n",
    "    midpoint = (low + high) / 2.0\n",
    "    for n in 1:20 # Wir nehmen einfach mal ein paar Iterationen \n",
    "        midpoint = (low + high) / 2.0\n",
    "        println(\"Iteration: \", n, \" Midpoint: \", midpoint)\n",
    "        if samesign(func(low), func(midpoint))\n",
    "            low = midpoint\n",
    "        else\n",
    "            high = midpoint\n",
    "        end\n",
    "    end\n",
    "    return midpoint\n",
    "end"
   ]
  },
  {
   "cell_type": "code",
   "execution_count": null,
   "metadata": {},
   "outputs": [],
   "source": [
    "x = bisect(f, 0, 1)\n",
    "println(\"x = \", x)"
   ]
  },
  {
   "attachments": {},
   "cell_type": "markdown",
   "metadata": {},
   "source": [
    "Can we extend the function so that we terminate as soon as we have reached a certain accuracy to zero? Say 0.0001? Therefore, we must incorporate the termination condition by calculating the function at the point $ x $."
   ]
  },
  {
   "cell_type": "code",
   "execution_count": null,
   "metadata": {},
   "outputs": [],
   "source": [
    "function bisect(func, low, high, tolerance)\n",
    "    # Find root of continuous function where f(low) and f(high) have opposite signs\n",
    "\n",
    "    if samesign(func(low), func(high))\n",
    "        return \"Error: No root found\"\n",
    "    end\n",
    "    midpoint = (low + high) / 2.0\n",
    "    for n in 1:1000 # Wir nehmen einfach mal ein paar Iterationen \n",
    "        midpoint = (low + high) / 2.0\n",
    "        println(\"Iteration: \", n, \" Midpoint: \", midpoint)\n",
    "        if samesign(func(low), func(midpoint))\n",
    "            low = midpoint\n",
    "        else\n",
    "            high = midpoint\n",
    "        end\n",
    "        if abs(high - low) < tolerance\n",
    "            break\n",
    "        end\n",
    "    end\n",
    "    return midpoint\n",
    "end"
   ]
  },
  {
   "cell_type": "code",
   "execution_count": null,
   "metadata": {},
   "outputs": [],
   "source": [
    "x = bisect(f, 0, 1, 0.0001)\n",
    "println(\"x = \", x)"
   ]
  }
 ],
 "metadata": {
  "kernelspec": {
   "display_name": "Julia 1.8.5",
   "language": "julia",
   "name": "julia-1.8"
  },
  "language_info": {
   "file_extension": ".jl",
   "mimetype": "application/julia",
   "name": "julia",
   "version": "1.8.5"
  },
  "orig_nbformat": 4
 },
 "nbformat": 4,
 "nbformat_minor": 2
}
