{
 "cells": [
  {
   "cell_type": "markdown",
   "metadata": {},
   "source": [
    "(practical-application)=\n",
    "# 3.3 Practical Application of Numerical Derivatives - Calculation the end effector velocity based on the joint velocities\n",
    "\n",
    "We can measure the joint velocities of our Openmanipulator. However, we are interested in the speed of the end effector. We have seen in the lecture that we can calculate the end effector velocity based on the joint velocities using the Jacobian matrix. "
   ]
  },
  {
   "attachments": {},
   "cell_type": "markdown",
   "metadata": {},
   "source": [
    "## Estimating the Jacobian matrix of the Openmanipulator-X kinematics\n",
    "To estimate the velocity of the end effector we need to know the forward kinematics of the Openmanipulator-X and estimate the derivative of the forward kinematics. \n",
    "\n"
   ]
  },
  {
   "cell_type": "code",
   "execution_count": null,
   "metadata": {},
   "outputs": [],
   "source": [
    "import Pkg\n",
    "Pkg.activate(\"../Exercise 3/OpenMEnv\") \n",
    "using Revise\n",
    "include(\"../OpenManipulatorLib/OpenManipulatorKinematics.jl\")\n",
    "using .OpenManipulatorKineamtics"
   ]
  },
  {
   "attachments": {},
   "cell_type": "markdown",
   "metadata": {},
   "source": [
    "Estimate the jacobian matrix of the forward kinematics for our robot arm using automatic differentiation. We can use the function `ForwardDiff.jacobian` to calculate the Jacobian matrix of the forward kinematics. "
   ]
  },
  {
   "cell_type": "code",
   "execution_count": null,
   "metadata": {},
   "outputs": [],
   "source": [
    "using ForwardDiff\n",
    "\n",
    "function openmanipulator_jacobian(q)\n",
    "    # Define a function that returns the position of the end effector\n",
    "    f(q) = OpenManipulatorKineamtics.complete_forward_kinematics(q)[1]\n",
    "\n",
    "    # Calculate the Jacobian matrix using ForwardDiff.jacobian\n",
    "    J = ForwardDiff.jacobian(f, q)\n",
    "\n",
    "    return J\n",
    "end"
   ]
  },
  {
   "attachments": {},
   "cell_type": "markdown",
   "metadata": {},
   "source": [
    "Now we can use the function `ReverseDiff.jacobian` to calculate the Jacobian matrix of the forward kinematics."
   ]
  },
  {
   "cell_type": "code",
   "execution_count": null,
   "metadata": {},
   "outputs": [],
   "source": [
    "using ReverseDiff\n",
    "\n",
    "function openmanipulator_jacobian_rev_AD(q)\n",
    "    # Define a function that returns the position of the end effector\n",
    "    f(q) = OpenManipulatorKineamtics.complete_forward_kinematics(q)[1]\n",
    "\n",
    "    # Calculate the Jacobian matrix using ForwardDiff.jacobian\n",
    "    J = ReverseDiff.jacobian(f, q)\n",
    "\n",
    "    return J\n",
    "end"
   ]
  },
  {
   "attachments": {},
   "cell_type": "markdown",
   "metadata": {},
   "source": [
    "Now estimate the jacobian matrix using finite differences:"
   ]
  },
  {
   "cell_type": "code",
   "execution_count": null,
   "metadata": {},
   "outputs": [],
   "source": [
    "import FiniteDifferences\n",
    "\n",
    "function openmanipulator_jacobian_finiteDiff(q)\n",
    "    # Define a function that returns the position of the end effector\n",
    "    f(q) = OpenManipulatorKineamtics.complete_forward_kinematics(q)[1]\n",
    "    \n",
    "    J = FiniteDifferences.jacobian(FiniteDifferences.central_fdm(2, 1), f, q)[1]\n",
    "\n",
    "    return J\n",
    "end"
   ]
  },
  {
   "attachments": {},
   "cell_type": "markdown",
   "metadata": {},
   "source": [
    "Now, lets compare the time and results of the methods. What do you observe?"
   ]
  },
  {
   "cell_type": "code",
   "execution_count": null,
   "metadata": {},
   "outputs": [],
   "source": [
    "q = [0.1, 0.0, 0.0, 0.1]"
   ]
  },
  {
   "cell_type": "code",
   "execution_count": null,
   "metadata": {},
   "outputs": [],
   "source": [
    "@time openmanipulator_jacobian(q)"
   ]
  },
  {
   "cell_type": "code",
   "execution_count": null,
   "metadata": {},
   "outputs": [],
   "source": [
    "@time openmanipulator_jacobian_rev_AD(q)"
   ]
  },
  {
   "cell_type": "code",
   "execution_count": null,
   "metadata": {},
   "outputs": [],
   "source": [
    "@time openmanipulator_jacobian_finiteDiff(q)"
   ]
  },
  {
   "attachments": {},
   "cell_type": "markdown",
   "metadata": {},
   "source": [
    "## Calculating the end effector velocity using the Jacobian matrix\n",
    "\n",
    "Erlier we said that based on the total derivative we can derive the rule for differentiating our system of equations $f_1(x,y)$ and $f_2(x,y)$ with respect to the variable $t$ when $x$ and $y$ are functions of $t$:\n",
    "\n",
    "$$\n",
    "\\frac{d}{dt} \\begin{bmatrix}\n",
    "f_1(x,y) \\\\\n",
    "f_2(x,y)\n",
    "\\end{bmatrix} = \\begin{bmatrix}\n",
    "\\frac{\\partial f_1}{\\partial x} & \\frac{\\partial f_1}{\\partial y} \\\\\n",
    "\\frac{\\partial f_2}{\\partial x} & \\frac{\\partial f_2}{\\partial y}\n",
    "\\end{bmatrix} \\begin{bmatrix}\n",
    "\\frac{\\partial x}{\\partial t} \\\\\n",
    "\\frac{\\partial y}{\\partial t}\n",
    "\\end{bmatrix}\n",
    "= \\mathbf{J} \\begin{bmatrix}\n",
    "\\frac{\\partial x}{\\partial t} \\\\\n",
    "\\frac{\\partial y}{\\partial t}\n",
    "\\end{bmatrix}\n",
    "$$\n",
    "\n",
    "Based on this rule we can estimate the end effector velocity using the Jacobian matrix. We can use the following estimation:\n",
    "\n",
    "$$\n",
    "v = \\mathbf{J}(q) * \\mathbf{q}_v = \\mathbf{J}(q) * \\begin{bmatrix}\n",
    "\\frac{\\partial q_1}{\\partial t} \\\\\n",
    "\\frac{\\partial  q_2}{\\partial t} \\\\\n",
    "\\frac{\\partial  q_3}{\\partial t} \\\\\n",
    "\\frac{\\partial  q_4}{\\partial t} \\\\\n",
    "\\end{bmatrix} \n",
    "\\approx J(q) * \\begin{bmatrix}\n",
    "\\Delta q_1 \\\\\n",
    "\\Delta q_2 \\\\\n",
    "\\Delta q_3 \\\\\n",
    "\\Delta q_4 \\\\\n",
    "\\end{bmatrix} \n",
    "$$\n",
    "\n",
    "where $v$ is the end effector velocity, $\\mathbf{J}(q)$ is the Jacobian matrix evaluated at the current joint angles $q$, and $\\mathbf{q}_v$ is the joint velocity vector, which we can estimate with the joint approximate velocities $\\Delta q_1$, $\\Delta q_2$, $\\Delta q_3$, and $\\Delta q_4$.\n",
    "\n",
    "Implement the `endeffector_velocity` function that uses the Jacobian matrix to calculate the end effector velocity. The function should takes in the joint angles `q` and joint velocity vector `q_v`, and returns the end effector velocity `v` calculated using the Jacobian matrix. Use the `openmanipulator_jacobian` function you implemented to calculate the Jacobian matrix."
   ]
  },
  {
   "cell_type": "code",
   "execution_count": null,
   "metadata": {},
   "outputs": [],
   "source": [
    "function endeffector_velocity(q, q_v)\n",
    "    # Calculate the Jacobian matrix at the current joint angles\n",
    "    J = openmanipulator_jacobian(q)\n",
    "\n",
    "    # Calculate the end effector velocity using the Jacobian matrix\n",
    "    v = J * q_v\n",
    "\n",
    "    return v\n",
    "end"
   ]
  },
  {
   "attachments": {},
   "cell_type": "markdown",
   "metadata": {},
   "source": [
    "Let's test the function with the following joint angles and joint velocities:"
   ]
  },
  {
   "cell_type": "code",
   "execution_count": null,
   "metadata": {},
   "outputs": [],
   "source": [
    "q_v = [0.0, 0.0, 0.0, 0.0]\n",
    "v = endeffector_velocity(q, q_v)"
   ]
  },
  {
   "attachments": {},
   "cell_type": "markdown",
   "metadata": {},
   "source": [
    "## Applying the end effector velocity calculation to the Openmanipulator-X"
   ]
  },
  {
   "attachments": {},
   "cell_type": "markdown",
   "metadata": {},
   "source": [
    "- let's start the Openmanipulator and subscrib to the joint states\n",
    "- Calculate the end effector velocity using the joint velocities and the Jacobian matrix\n",
    "- Do this by adding a new function which is the new callback function for the joint states subscriber and which calls the `endeffector_velocity` function\n",
    "- print the end effector velocity to the console while you move the Openmanipulator"
   ]
  },
  {
   "attachments": {},
   "cell_type": "markdown",
   "metadata": {},
   "source": [
    "Since we are working with subscriptions it might be handy to be ablte to restart the notebook withour restarting Gazebo. Go to your Terminal and start the following two programs in seperate cells:\n",
    "\n",
    "```bash\n",
    "roslaunch open_manipulator_gazebo open_manipulator_gazebo.launch\n",
    "```\n",
    "\n",
    "```bash\n",
    "roslaunch open_manipulator_controller open_manipulator_controller.launch use_platform:=false\n",
    "```\n",
    "\n"
   ]
  },
  {
   "cell_type": "code",
   "execution_count": null,
   "metadata": {},
   "outputs": [],
   "source": [
    "include(\"../OpenManipulatorLib/OpenManipulatorBase.jl\")\n",
    "using .OpenManipulatorBase"
   ]
  },
  {
   "cell_type": "code",
   "execution_count": null,
   "metadata": {},
   "outputs": [],
   "source": [
    "OpenManipulatorBase.init()"
   ]
  },
  {
   "cell_type": "code",
   "execution_count": null,
   "metadata": {},
   "outputs": [],
   "source": [
    "function sub_joint_to_endeffector(list)\n",
    "    OpenManipulatorBase.reset_robot()\n",
    "    OpenManipulatorBase.rossleep(0.5)\n",
    "\n",
    "    function joint_state_sub_callback(sensor_msg::JointState, a::Array{Any,1})\n",
    "        header_time = to_sec(sensor_msg.header.stamp)/60.0 # header time in minutes\n",
    "        names = sensor_msg.name\n",
    "        positions = sensor_msg.position\n",
    "        velocities = sensor_msg.velocity\n",
    "        # v = J * q_v\n",
    "        joint_names = names[3:6]\n",
    "        q_v = velocities[3:6]\n",
    "        q = positions[3:6]\n",
    "        v = endeffector_velocity(q, q_v)\n",
    "        println(\"Header Time: $header_time minutes\")\n",
    "        println(\"Name: $joint_names\")\n",
    "        println(\"Joint Velocities: $q_v\")\n",
    "        println(\"Joint Angles: $q\")\n",
    "        println(\"End Effector Velocity: $v\")\n",
    "        push!(a, v)\n",
    "        if length(a) >= 2\n",
    "            unsubscribe(sub)\n",
    "        end\n",
    "    end\n",
    "\n",
    "    sub = Subscriber{JointState}(\"/joint_states\", joint_state_sub_callback, (list,), queue_size=1)\n",
    "\n",
    "    sending_time = to_sec(RobotOS.now())/60.0\n",
    "    println(\"Sending Time: $sending_time minutes\")\n",
    "    OpenManipulatorBase.set_joint_angles([0.6, 0.6, -0.5, -0.1])\n",
    "    after_sending_time = to_sec(RobotOS.now())/60.0\n",
    "    println(\"After sending Time: $after_sending_time minutes\")\n",
    "    OpenManipulatorBase.rossleep(1.0)\n",
    "    return list\n",
    "end"
   ]
  },
  {
   "cell_type": "code",
   "execution_count": null,
   "metadata": {},
   "outputs": [],
   "source": [
    "list = []\n",
    "list = sub_joint_to_endeffector(list)\n",
    "sleep(3.0)\n",
    "println(\"End Effector Velocities: $list\")"
   ]
  }
 ],
 "metadata": {
  "kernelspec": {
   "display_name": "Julia 1.9.0",
   "language": "julia",
   "name": "julia-1.9"
  },
  "language_info": {
   "file_extension": ".jl",
   "mimetype": "application/julia",
   "name": "julia",
   "version": "1.9.0"
  },
  "orig_nbformat": 4
 },
 "nbformat": 4,
 "nbformat_minor": 2
}
