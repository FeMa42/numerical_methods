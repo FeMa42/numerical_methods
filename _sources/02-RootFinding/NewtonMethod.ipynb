{
 "cells": [
  {
   "attachments": {},
   "cell_type": "markdown",
   "metadata": {},
   "source": [
    "(newtons-method)=\n",
    "# 2.2 Newton's Method\n",
    "Now we want to implement Newton's method. For this, we utilize the first Taylor approximation (tangent) at the point $x_n$:\n",
    "\n",
    "$$f(x) = f(x_n) + f'(x_n)(x-x_n)$$\n",
    "\n",
    "Since we want to find the root, we set $f(x_{n+1}) = 0$ and solve for $x$:\n",
    "\n",
    "$$0 = f(x_n) + f'(x_n)(x_{n+1}-x_n)$$\n",
    "\n",
    "$$x_{n+1} = x_n - \\frac{f(x_n)}{f'(x_n)}$$\n",
    "\n",
    "The computational rule for the next $x$ which is closer to the root is therefore iteratively invoked again and again. According to Newton's method, the computational rule is:\n",
    "\n",
    "$$x_0 = \\text{{starting value}}$$\n",
    "\n",
    "$$x_{1} = x_0 - \\frac{f(x_0)}{f'(x_0)}$$\n",
    "\n",
    "$$x_{2} = x_{1} - \\frac{f(x_{1})}{f'(x_{1})}$$\n",
    "\n",
    "$$\\vdots$$\n",
    "\n",
    "$$x_{n+1} = x_n - \\frac{f(x_n)}{f'(x_n)}$$\n",
    "\n",
    "We continue this until we have reached the desired accuracy, i.e., the desired distance from $f(x_{n+1})$ to 0.\n",
    "\n",
    "We thus need the first derivative of our function. We will calculate this manually for now:"
   ]
  },
  {
   "cell_type": "code",
   "execution_count": null,
   "metadata": {},
   "outputs": [],
   "source": [
    "import Pkg\n",
    "Pkg.instantiate()"
   ]
  },
  {
   "cell_type": "code",
   "execution_count": null,
   "metadata": {},
   "outputs": [],
   "source": [
    "f(x) = -26 + 85 * x - 91 * x^2 + 44 * x^3 - 8 * x^4 + x^5\n",
    "df(x) = 85 - 182 * x + 132 * x^2 - 32 * x^3 + 5 * x^4"
   ]
  },
  {
   "attachments": {},
   "cell_type": "markdown",
   "metadata": {},
   "source": [
    "Next, we require a function that calculates the distance from $f(x_0)$ to 0, so that we know when we must terminate the process."
   ]
  },
  {
   "cell_type": "code",
   "execution_count": null,
   "metadata": {},
   "outputs": [],
   "source": [
    "function dx(f, x)\n",
    "    return abs(0 - f(x))\n",
    "end"
   ]
  },
  {
   "attachments": {},
   "cell_type": "markdown",
   "metadata": {},
   "source": [
    "Now, the Newton method itself. We again provide the function, its derivative, and an initial value. Then we calculate the next value using the Newton method. We continue this process until we have reached the desired accuracy."
   ]
  },
  {
   "cell_type": "code",
   "execution_count": null,
   "metadata": {},
   "outputs": [],
   "source": [
    "function newton(func, dfunc, x0, tolerance)\n",
    "    delta = dx(func, x0)\n",
    "    n = 0\n",
    "    while delta > tolerance\n",
    "        n += 1\n",
    "        x0 = x0 - func(x0) / dfunc(x0)\n",
    "        delta = dx(func, x0)\n",
    "        println(\"Iteration: \", n, \" x0: \", x0)\n",
    "        if n > 100\n",
    "            break\n",
    "        end\n",
    "    end\n",
    "    return x0\n",
    "end"
   ]
  },
  {
   "attachments": {},
   "cell_type": "markdown",
   "metadata": {},
   "source": [
    "Let's test our function with the initial value $x_0 = 1$."
   ]
  },
  {
   "cell_type": "code",
   "execution_count": null,
   "metadata": {},
   "outputs": [],
   "source": [
    "x = newton(f, df, 1.0, 0.0001)\n",
    "println(\"x = \", x)"
   ]
  },
  {
   "attachments": {},
   "cell_type": "markdown",
   "metadata": {},
   "source": [
    "For $x_0 = 0$:"
   ]
  },
  {
   "cell_type": "code",
   "execution_count": null,
   "metadata": {},
   "outputs": [],
   "source": [
    "x = newton(f, df, 0.0, 0.0001)\n",
    "println(\"x = \", x)"
   ]
  },
  {
   "attachments": {},
   "cell_type": "markdown",
   "metadata": {},
   "source": [
    "And for $x_0 = 5$."
   ]
  },
  {
   "cell_type": "code",
   "execution_count": null,
   "metadata": {},
   "outputs": [],
   "source": [
    "x = newton(f, df, 5.0, 0.0001)\n",
    "println(\"x = \", x)"
   ]
  },
  {
   "attachments": {},
   "cell_type": "markdown",
   "metadata": {},
   "source": [
    "## Newton's Method with Arbitrary Functions\n",
    "We have already encountered the Taylor method and the package in Julia with which we can automatically compute the derivative. Let's test this for our Newton's method."
   ]
  },
  {
   "cell_type": "code",
   "execution_count": null,
   "metadata": {},
   "outputs": [],
   "source": [
    "# Falls ihr das Package TaylorSeries noch nicht installiert habt, könnt ihr das hier tun\n",
    "using Pkg\n",
    "Pkg.add(\"TaylorSeries\")"
   ]
  },
  {
   "cell_type": "code",
   "execution_count": null,
   "metadata": {},
   "outputs": [],
   "source": [
    "using TaylorSeries # ansonsten fügen wir es einfach hinzu"
   ]
  },
  {
   "attachments": {},
   "cell_type": "markdown",
   "metadata": {},
   "source": [
    "We can compute the derivative using the package. Here's an example call:\n",
    "```julia\n",
    "using TaylorSeries\n",
    "func = x -> sin(x)\n",
    "x = 1.0\n",
    "TS = Taylor1(Float64, 1)\n",
    "dfunc = func(TS)\n",
    "ts = myFunc.(x)\n",
    "```\n",
    "Here, the Taylor polynomial at the point $x_0=0$ is computed. We can also evaluate the polynomial at a different point. For this, we can utilize `taylor_expand`.\n",
    "\n",
    "```julia\n",
    "func_t = taylor_expand(func, a, order=1)\n",
    "```\n",
    "\n",
    "With the help of `differentiate`, we can calculate the derivative.\n",
    "\n",
    "```julia\n",
    "dfunc_t = differentiate(func_t)\n",
    "```\n",
    "\n",
    "First, create a function that constructs the Taylor series for a given function. The function should take the function as an argument and return the Taylor series."
   ]
  },
  {
   "cell_type": "code",
   "execution_count": null,
   "metadata": {},
   "outputs": [],
   "source": [
    "function get_taylor(func, a)\n",
    "    func_t = taylor_expand(f, a, order=1) # Taylor series of f around a\n",
    "    return func_t\n",
    "end\n",
    "t_f = get_taylor(f, 0.5) # Taylor series of f around 0"
   ]
  },
  {
   "attachments": {},
   "cell_type": "markdown",
   "metadata": {},
   "source": [
    "We will now construct a Newton's method that automatically calculates the derivative. Therefore, we only provide the function, the initial value, and the desired accuracy, this time without passing the derivative."
   ]
  },
  {
   "cell_type": "code",
   "execution_count": null,
   "metadata": {},
   "outputs": [],
   "source": [
    "function newton_taylor(func, x0, tolerance)\n",
    "    func_t = get_taylor(func, x0)\n",
    "    delta = dx(func, x0)\n",
    "    n = 0\n",
    "    while delta > tolerance\n",
    "        n += 1\n",
    "        df_t = differentiate(func_t)\n",
    "        x0 = x0 - func(x0) / df_t()\n",
    "        delta = dx(func, x0)\n",
    "        func_t = get_taylor(func, x0)\n",
    "        println(\"Iteration: \", n, \" x0: \", x0)\n",
    "        if n > 100\n",
    "            break\n",
    "        end\n",
    "    end\n",
    "    return x0\n",
    "end"
   ]
  },
  {
   "cell_type": "code",
   "execution_count": null,
   "metadata": {},
   "outputs": [],
   "source": [
    "x = newton_taylor(f, 1.0, 0.0001)\n",
    "println(\"x = \", x)"
   ]
  }
 ],
 "metadata": {
  "kernelspec": {
   "display_name": "Julia 1.8.5",
   "language": "julia",
   "name": "julia-1.8"
  },
  "language_info": {
   "file_extension": ".jl",
   "mimetype": "application/julia",
   "name": "julia",
   "version": "1.8.5"
  },
  "orig_nbformat": 4
 },
 "nbformat": 4,
 "nbformat_minor": 2
}
